{
 "cells": [
  {
   "cell_type": "code",
   "execution_count": 1,
   "id": "5dd66b30",
   "metadata": {},
   "outputs": [],
   "source": [
    "import ipywidgets as widgets\n",
    "import matplotlib.pyplot as plt\n",
    "import pandas as pd\n",
    "import visvalingamwyatt as vw\n",
    "import yfinance as yf"
   ]
  },
  {
   "cell_type": "code",
   "execution_count": 2,
   "id": "07434986",
   "metadata": {},
   "outputs": [],
   "source": [
    "# Отрисовка свечного графика\n",
    "def candles(ax, data, interval, alpha=1):\n",
    "    coeff = {\"1m\":1/24/60, \"2m\":1/24/30, \"5m\":1/24/12, \"15m\":1/24/4, \"30m\":1/24/2,\n",
    "        \"60m\":1/24, \"90m\":1/16, \"1h\":1/24, \"1d\":1, \"5d\":5, \"1wk\":7, \"1mo\":30,\n",
    "         \"3mo\":90}\n",
    "    up = data[data.Close >= data.Open]\n",
    "    down = data[data.Close < data.Open]\n",
    "    col_up = 'green'\n",
    "    col_down = 'red'\n",
    "    col_shadow_up = 'black'\n",
    "    col_shadow_down = 'black'\n",
    "    width_body = .8 * coeff[interval]\n",
    "    width_shadow = .2 * coeff[interval]\n",
    "    ax.bar(up.index, up.Close-up.Open, width_body, bottom=up.Open, color=col_up, alpha=alpha)\n",
    "    ax.bar(up.index, up.High-up.Close, width_shadow, bottom=up.Close, color=col_shadow_up, alpha=alpha)\n",
    "    ax.bar(up.index, up.Low-up.Open, width_shadow, bottom=up.Open, color=col_shadow_up, alpha=alpha)\n",
    "    ax.bar(down.index, down.Close-down.Open, width_body, bottom=down.Open, color=col_down, alpha=alpha)\n",
    "    ax.bar(down.index, down.High-down.Open, width_shadow, bottom=down.Open, color=col_shadow_down, alpha=alpha)\n",
    "    ax.bar(down.index, down.Low-down.Close, width_shadow, bottom=down.Close, color=col_shadow_down, alpha=alpha)"
   ]
  },
  {
   "cell_type": "code",
   "execution_count": 3,
   "id": "df18d6f2",
   "metadata": {},
   "outputs": [],
   "source": [
    "def get_data(ticker, period, interval):\n",
    "    return yf.download(ticker, period=period, interval=interval)\n",
    "# Сглаживаем график и объединяем однонаправленные отрезки\n",
    "def simplify(data, segments):\n",
    "    temp = [[i, data[\"Close\"][i]] for i in range(len(data))]\n",
    "    temp = vw.simplify(temp, number=segments) \n",
    "    return data.iloc[[i[0] for i in temp]]\n",
    "def simplify_monotone(data):\n",
    "    temp = [0]\n",
    "    for i in range(1, data.shape[0]-1):\n",
    "        if (data[\"Close\"][i+1]-data[\"Close\"][i] > 0) != (data[\"Close\"][i]-data[\"Close\"][i-1] > 0):\n",
    "            temp.append(i)\n",
    "    temp.append(data.shape[0]-1)\n",
    "    return data.iloc[temp]\n",
    "# Ищем паттерн\n",
    "def search_head_and_shoulders(data):\n",
    "    i = 0\n",
    "    if data[\"Close\"][0] > data[\"Close\"][1]:\n",
    "        i += 1\n",
    "    res = []\n",
    "    while i <= data.shape[0]-7:\n",
    "        left = data[\"Close\"][i+1]\n",
    "        left_min = data[\"Close\"][i+2]\n",
    "        head = data[\"Close\"][i+3]\n",
    "        right_min = data[\"Close\"][i+4]\n",
    "        right = data[\"Close\"][i+5]\n",
    "        if (head > left and head > right and head - max(left, right) > abs(left-right) \n",
    "            and min(left, right) - max(left_min, right_min) > abs(left-right)):\n",
    "            res.append(data.iloc[i:i+7])\n",
    "            i += 4\n",
    "        i += 2\n",
    "    \n",
    "    # Обратный паттерн\n",
    "    i = 0\n",
    "    if data[\"Close\"][0] < data[\"Close\"][1]:\n",
    "        i += 1\n",
    "    while i <= data.shape[0]-7:\n",
    "        left = data[\"Close\"][i+1]\n",
    "        left_min = data[\"Close\"][i+2]\n",
    "        head = data[\"Close\"][i+3]\n",
    "        right_min = data[\"Close\"][i+4]\n",
    "        right = data[\"Close\"][i+5]\n",
    "        if (head < left and head < right and min(left, right) - head > abs(left-right) \n",
    "            and min(left_min, right_min) - max(left, right) > abs(left-right)):\n",
    "            res.append(data.iloc[i:i+7])\n",
    "            i += 4\n",
    "        i += 2\n",
    "    return res"
   ]
  },
  {
   "cell_type": "code",
   "execution_count": 4,
   "id": "130dcc96",
   "metadata": {
    "scrolled": false
   },
   "outputs": [
    {
     "data": {
      "application/vnd.jupyter.widget-view+json": {
       "model_id": "3902201bf74d446f9e90060ae9e796a3",
       "version_major": 2,
       "version_minor": 0
      },
      "text/plain": [
       "interactive(children=(Dropdown(description='ticker', options=('BTC-USD', 'ETH-USD', 'USDT-USD', 'BNB-USD', 'US…"
      ]
     },
     "execution_count": 4,
     "metadata": {},
     "output_type": "execute_result"
    }
   ],
   "source": [
    "def res(ticker=\"BTC-USD\", period=\"1y\", interval=\"1d\", segments=30):\n",
    "    data = get_data(ticker, period, interval)\n",
    "    \n",
    "    fig = plt.figure(figsize=[12.8, 9.6])\n",
    "\n",
    "    res1 = simplify(data, segments)\n",
    "    res2 = simplify_monotone(res1)\n",
    "    patterns = search_head_and_shoulders(res2)\n",
    "\n",
    "    ax1 = fig.add_subplot(321)\n",
    "    candles(ax1, data, interval)\n",
    "    ax1.set_title(\"Свечной график\")\n",
    "\n",
    "    ax2 = fig.add_subplot(322)\n",
    "    ax2.plot(data.index, data.Close)\n",
    "    ax2.set_title(\"Цена закрытия\")\n",
    "\n",
    "    ax3 = fig.add_subplot(323)\n",
    "    ax3.plot(res1.index, res1.Close)\n",
    "    ax3.set_title(\"Сглаживание\")\n",
    "\n",
    "    ax4 = fig.add_subplot(324)\n",
    "    ax4.plot(res2.index, res2.Close)\n",
    "    ax4.set_title(\"Объединение монотонных отрезков\")\n",
    "\n",
    "    ax5 = fig.add_subplot(325)\n",
    "    ax5.plot(res2.index, res2.Close)\n",
    "    for pattern in patterns:\n",
    "        ax5.plot(pattern.index, pattern.Close, lw=5, c=\"black\")\n",
    "    ax5.set_title(\"Поиск паттерна\")\n",
    "\n",
    "    ax6 = fig.add_subplot(326)\n",
    "    candles(ax6, data, interval)\n",
    "    for pattern in patterns:\n",
    "        ax6.plot(pattern.index, pattern.Close, lw=5, c=\"black\")\n",
    "    ax6.set_title(\"Результат\")\n",
    "\n",
    "    fig.suptitle(ticker)\n",
    "    fig.subplots_adjust(top=0.94, hspace=0.3)\n",
    "    for ax in fig.axes:\n",
    "        plt.setp(ax.get_xticklabels(), rotation=30)\n",
    "    plt.show()\n",
    "    \n",
    "ticker_list = [\"BTC-USD\", \"ETH-USD\", \"USDT-USD\", \"BNB-USD\", \"USDC-USD\", \n",
    "               \"XRP-USD\", \"ADA-USD\", \"DOGE-USD\", \"STETH-USD\", \"HEX-USD\", \n",
    "               \"MATIC-USD\", \"SOL-USD\", \"DOT-USD\", \"LTC-USD\", \"WTRX-USD\"]\n",
    "period_list = [\"1h\", \"1d\", \"1wk\", \"1mo\", \"3mo\", \"6mo\", \"1y\", \"2y\", \"3y\", \"5y\"]\n",
    "interval_list = [\"1m\", \"2m\", \"5m\", \"15m\", \"30m\", \"60m\", \"90m\", \"1h\", \"1d\", \"5d\", \"1wk\", \"1mo\", \"3mo\"]\n",
    "\n",
    "interactive_plot = widgets.interactive(res, {'manual': True}, ticker=ticker_list, period=period_list, interval=interval_list, \n",
    "                                       segments=(10, 80, 5))\n",
    "output = interactive_plot.children[-1]\n",
    "output.layout.height = '1000px'\n",
    "interactive_plot"
   ]
  }
 ],
 "metadata": {
  "kernelspec": {
   "display_name": "Python 3 (ipykernel)",
   "language": "python",
   "name": "python3"
  },
  "language_info": {
   "codemirror_mode": {
    "name": "ipython",
    "version": 3
   },
   "file_extension": ".py",
   "mimetype": "text/x-python",
   "name": "python",
   "nbconvert_exporter": "python",
   "pygments_lexer": "ipython3",
   "version": "3.8.10"
  }
 },
 "nbformat": 4,
 "nbformat_minor": 5
}
