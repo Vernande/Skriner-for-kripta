{
 "cells": [
  {
   "cell_type": "code",
   "execution_count": 1,
   "id": "9b5aac5e",
   "metadata": {},
   "outputs": [],
   "source": [
    "import ipywidgets as widgets\n",
    "import matplotlib.pyplot as plt\n",
    "import numpy as np\n",
    "import pandas as pd\n",
    "import scipy\n",
    "import yfinance as yf"
   ]
  },
  {
   "cell_type": "code",
   "execution_count": 2,
   "id": "72cd7039",
   "metadata": {},
   "outputs": [],
   "source": [
    "# Отрисовка свечного графика\n",
    "def candles(ax, data, interval, alpha=1):\n",
    "    coeff = {\"1m\":1/24/60, \"2m\":1/24/30, \"5m\":1/24/12, \"15m\":1/24/4, \"30m\":1/24/2,\n",
    "        \"60m\":1/24, \"90m\":1/16, \"1h\":1/24, \"1d\":1, \"5d\":5, \"1wk\":7, \"1mo\":30,\n",
    "         \"3mo\":90}\n",
    "    up = data[data.Close >= data.Open]\n",
    "    down = data[data.Close < data.Open]\n",
    "    col_up = 'green'\n",
    "    col_down = 'red'\n",
    "    col_shadow_up = 'black'\n",
    "    col_shadow_down = 'black'\n",
    "    width_body = .8 * coeff[interval]\n",
    "    width_shadow = .2 * coeff[interval]\n",
    "    ax.bar(up.index, up.Close-up.Open, width_body, bottom=up.Open, color=col_up, alpha=alpha)\n",
    "    ax.bar(up.index, up.High-up.Close, width_shadow, bottom=up.Close, color=col_shadow_up, alpha=alpha)\n",
    "    ax.bar(up.index, up.Low-up.Open, width_shadow, bottom=up.Open, color=col_shadow_up, alpha=alpha)\n",
    "    ax.bar(down.index, down.Close-down.Open, width_body, bottom=down.Open, color=col_down, alpha=alpha)\n",
    "    ax.bar(down.index, down.High-down.Open, width_shadow, bottom=down.Open, color=col_shadow_down, alpha=alpha)\n",
    "    ax.bar(down.index, down.Low-down.Close, width_shadow, bottom=down.Close, color=col_shadow_down, alpha=alpha)"
   ]
  },
  {
   "cell_type": "code",
   "execution_count": 3,
   "id": "47c88a2a",
   "metadata": {},
   "outputs": [],
   "source": [
    "# Получение данных\n",
    "def get_data(ticker, period, interval):\n",
    "    return yf.download(ticker, period=period, interval=interval)"
   ]
  },
  {
   "cell_type": "code",
   "execution_count": 4,
   "id": "d7074817",
   "metadata": {},
   "outputs": [],
   "source": [
    "# Нахождение экстремумов\n",
    "def get_points(data, n):\n",
    "    resistance_points = data.iloc[scipy.signal.argrelextrema(data[\"High\"].to_numpy(), np.greater, axis=0, order=n)]\n",
    "    support_points = data.iloc[scipy.signal.argrelextrema(data[\"Low\"].to_numpy(), np.less, axis=0, order=n)]\n",
    "    return resistance_points, support_points"
   ]
  },
  {
   "cell_type": "code",
   "execution_count": 5,
   "id": "05dc3879",
   "metadata": {},
   "outputs": [],
   "source": [
    "# Определение уровней\n",
    "def get_levels(data, resistance_points, support_points, epsilon, pivots_number):\n",
    "    to_check = []\n",
    "    for point in resistance_points[\"High\"]:\n",
    "        to_check.append(point)\n",
    "    for point in support_points[\"Low\"]:\n",
    "        to_check.append(point)\n",
    "    to_check.sort()\n",
    "\n",
    "    levels = []\n",
    "    streak = 1\n",
    "    y_range = data[\"High\"].max()-data[\"Low\"].min()\n",
    "    for i in range(1, len(to_check)):\n",
    "        if to_check[i] - to_check[i-1] < to_check[i-1] * epsilon and to_check[i] - to_check[i-1] < y_range * epsilon:\n",
    "            streak += 1\n",
    "        else:\n",
    "            if streak >= pivots_number:\n",
    "                levels.append(sum(to_check[i-streak:i])/streak)\n",
    "            streak = 1\n",
    "    if streak >= pivots_number:\n",
    "        levels.append(sum(to_check[-streak:])/streak)\n",
    "    return levels"
   ]
  },
  {
   "cell_type": "code",
   "execution_count": 6,
   "id": "72960009",
   "metadata": {},
   "outputs": [
    {
     "data": {
      "application/vnd.jupyter.widget-view+json": {
       "model_id": "774bed40fa8f4e8f927021d2ad053163",
       "version_major": 2,
       "version_minor": 0
      },
      "text/plain": [
       "interactive(children=(Dropdown(description='ticker', options=('BTC-USD', 'ETH-USD', 'USDT-USD', 'BNB-USD', 'US…"
      ]
     },
     "execution_count": 6,
     "metadata": {},
     "output_type": "execute_result"
    }
   ],
   "source": [
    "def res(ticker=\"BTC-USD\", period=\"1y\", interval=\"1d\", divider=30, pivots_number=2, epsilon=0.05):\n",
    "    data = get_data(ticker, period, interval)\n",
    "    \n",
    "    n = round(data.shape[0]/divider)\n",
    "    if not n:\n",
    "        n = 1\n",
    "        \n",
    "    resistance_points, support_points = get_points(data, n)\n",
    "    levels = get_levels(data, resistance_points, support_points, epsilon, pivots_number)\n",
    "    \n",
    "    fig = plt.figure(figsize=[12.8, 9.6])\n",
    "\n",
    "    ax1 = fig.add_subplot(221)\n",
    "    candles(ax1, data, interval)\n",
    "    ax1.set_title(\"Исходные данные\")\n",
    "\n",
    "    ax2 = fig.add_subplot(222)\n",
    "    candles(ax2, data, interval, 0.5)\n",
    "    ax2.scatter(resistance_points.index, resistance_points[\"High\"], color=\"green\")\n",
    "    ax2.scatter(support_points.index, support_points[\"Low\"], color=\"red\")\n",
    "    ax2.set_title(\"Экстремумы\")\n",
    "\n",
    "    ax3 = fig.add_subplot(223)\n",
    "    candles(ax3, data, interval, 0.5)\n",
    "    ax3.scatter(resistance_points.index, resistance_points[\"High\"], color=\"green\")\n",
    "    ax3.scatter(support_points.index, support_points[\"Low\"], color=\"red\")\n",
    "    for lvl in levels:\n",
    "        ax3.axhline(lvl)\n",
    "    ax3.set_title(\"Экстремумы и уровни\")\n",
    "\n",
    "    ax4 = fig.add_subplot(224)\n",
    "    candles(ax4, data, interval)\n",
    "    for lvl in levels:\n",
    "        ax4.axhline(lvl)\n",
    "    ax4.set_title(\"Результат\")\n",
    "\n",
    "    fig.suptitle(f\"{ticker}, n = {n}\")\n",
    "    fig.subplots_adjust(top=0.94, hspace=0.3)\n",
    "    for ax in fig.axes:\n",
    "        plt.setp(ax.get_xticklabels(), rotation=30)\n",
    "    plt.show()\n",
    "    \n",
    "ticker_list = [\"BTC-USD\", \"ETH-USD\", \"USDT-USD\", \"BNB-USD\", \"USDC-USD\", \n",
    "               \"XRP-USD\", \"ADA-USD\", \"DOGE-USD\", \"STETH-USD\", \"HEX-USD\", \n",
    "               \"MATIC-USD\", \"SOL-USD\", \"DOT-USD\", \"LTC-USD\", \"WTRX-USD\"]\n",
    "period_list = [\"1h\", \"1d\", \"1wk\", \"1mo\", \"3mo\", \"6mo\", \"1y\", \"2y\", \"3y\", \"5y\"]\n",
    "interval_list = [\"1m\", \"2m\", \"5m\", \"15m\", \"30m\", \"60m\", \"90m\", \"1h\", \"1d\", \"5d\", \"1wk\", \"1mo\", \"3mo\"]\n",
    "\n",
    "interactive_plot = widgets.interactive(res, {'manual': True}, ticker=ticker_list, period=period_list, interval=interval_list, \n",
    "                                       divider=(5, 100, 5), pivots_number=(2, 5, 1), \n",
    "                                       epsilon=widgets.FloatSlider(value=0.03, min=0.002, max=0.1, step=0.002, readout_format='.3f'))\n",
    "output = interactive_plot.children[-1]\n",
    "output.layout.height = '1000px'\n",
    "interactive_plot"
   ]
  }
 ],
 "metadata": {
  "kernelspec": {
   "display_name": "Python 3 (ipykernel)",
   "language": "python",
   "name": "python3"
  },
  "language_info": {
   "codemirror_mode": {
    "name": "ipython",
    "version": 3
   },
   "file_extension": ".py",
   "mimetype": "text/x-python",
   "name": "python",
   "nbconvert_exporter": "python",
   "pygments_lexer": "ipython3",
   "version": "3.8.10"
  }
 },
 "nbformat": 4,
 "nbformat_minor": 5
}
