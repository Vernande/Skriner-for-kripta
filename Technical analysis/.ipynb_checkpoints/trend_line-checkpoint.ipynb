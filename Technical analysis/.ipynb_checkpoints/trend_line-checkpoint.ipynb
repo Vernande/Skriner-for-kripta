{
 "cells": [
  {
   "cell_type": "code",
   "execution_count": 2,
   "id": "9b5aac5e",
   "metadata": {},
   "outputs": [],
   "source": [
    "import ipywidgets as widgets\n",
    "import itertools\n",
    "import matplotlib.pyplot as plt\n",
    "import numpy as np\n",
    "import pandas as pd\n",
    "import scipy\n",
    "import yfinance as yf"
   ]
  },
  {
   "cell_type": "code",
   "execution_count": 3,
   "id": "72cd7039",
   "metadata": {},
   "outputs": [],
   "source": [
    "# Отрисовка свечного графика\n",
    "def candles(ax, data, interval, alpha=1):\n",
    "    coeff = {\"1m\":1/24/60, \"2m\":1/24/30, \"5m\":1/24/12, \"15m\":1/24/4, \"30m\":1/24/2,\n",
    "        \"60m\":1/24, \"90m\":1/16, \"1h\":1/24, \"1d\":1, \"5d\":5, \"1wk\":7, \"1mo\":30,\n",
    "         \"3mo\":90}\n",
    "    up = data[data.Close >= data.Open]\n",
    "    down = data[data.Close < data.Open]\n",
    "    col_up = 'green'\n",
    "    col_down = 'red'\n",
    "    col_shadow_up = 'black'\n",
    "    col_shadow_down = 'black'\n",
    "    width_body = .8 * coeff[interval]\n",
    "    width_shadow = .2 * coeff[interval]\n",
    "    ax.bar(up.index, up.Close-up.Open, width_body, bottom=up.Open, color=col_up, alpha=alpha)\n",
    "    ax.bar(up.index, up.High-up.Close, width_shadow, bottom=up.Close, color=col_shadow_up, alpha=alpha)\n",
    "    ax.bar(up.index, up.Low-up.Open, width_shadow, bottom=up.Open, color=col_shadow_up, alpha=alpha)\n",
    "    ax.bar(down.index, down.Close-down.Open, width_body, bottom=down.Open, color=col_down, alpha=alpha)\n",
    "    ax.bar(down.index, down.High-down.Open, width_shadow, bottom=down.Open, color=col_shadow_down, alpha=alpha)\n",
    "    ax.bar(down.index, down.Low-down.Close, width_shadow, bottom=down.Close, color=col_shadow_down, alpha=alpha)"
   ]
  },
  {
   "cell_type": "code",
   "execution_count": 4,
   "id": "47c88a2a",
   "metadata": {},
   "outputs": [
    {
     "name": "stdout",
     "output_type": "stream",
     "text": [
      "[*********************100%***********************]  1 of 1 completed\n"
     ]
    }
   ],
   "source": [
    "# Получение данных\n",
    "def get_data(ticker, period, interval):\n",
    "    return yf.download(ticker, period=period, interval=interval)\n",
    "data = get_data(\"BTC-USD\", \"1y\", \"1d\")"
   ]
  },
  {
   "cell_type": "code",
   "execution_count": null,
   "id": "d7074817",
   "metadata": {},
   "outputs": [],
   "source": [
    "# Нахождение экстремумов\n",
    "def get_points(data, n):\n",
    "    resistance_points = data.iloc[scipy.signal.argrelextrema(data[\"High\"].to_numpy(), np.greater, axis=0, order=n)]\n",
    "    support_points = data.iloc[scipy.signal.argrelextrema(data[\"Low\"].to_numpy(), np.less, axis=0, order=n)]\n",
    "    return resistance_points, support_points\n",
    "resistance_points, support_points = get_points(data, round(data.shape[0]/50))"
   ]
  },
  {
   "cell_type": "code",
   "execution_count": null,
   "id": "05dc3879",
   "metadata": {},
   "outputs": [],
   "source": [
    "# Определение линий тренда\n",
    "def get_levels(data, resistance_points, support_points):\n",
    "    levels = []\n",
    "    for to_check in itertools.combinations(range(resistance_points.shape[0]), 3):\n",
    "        info = np.polyfit(to_check, resistance_points.iloc[list(to_check)][\"High\"], 1, full=True)\n",
    "        if info[1] < 1000:\n",
    "            a = info[0][0]\n",
    "            b = info[0][1]\n",
    "            levels.append(((resistance_points.iloc[[to_check[0]]].index, resistance_points.iloc[[to_check[-1]]].index), \n",
    "                           (a*to_check[0]+b, a*to_check[-1]+b), \n",
    "                           \"red\"))\n",
    "    for to_check in itertools.combinations(range(support_points.shape[0]), 3):\n",
    "        info = np.polyfit(to_check, support_points.iloc[list(to_check)][\"Low\"], 1, full=True)\n",
    "        if info[1] < 1000:\n",
    "            a = info[0][0]\n",
    "            b = info[0][1]\n",
    "            levels.append(((support_points.iloc[[to_check[0]]].index, support_points.iloc[[to_check[-1]]].index), \n",
    "                           (a*to_check[0]+b, a*to_check[-1]+b), \n",
    "                           \"green\"))\n",
    "    return levels\n",
    "levels = get_levels(data, resistance_points, support_points)"
   ]
  }
 ],
 "metadata": {
  "kernelspec": {
   "display_name": "Python 3 (ipykernel)",
   "language": "python",
   "name": "python3"
  },
  "language_info": {
   "codemirror_mode": {
    "name": "ipython",
    "version": 3
   },
   "file_extension": ".py",
   "mimetype": "text/x-python",
   "name": "python",
   "nbconvert_exporter": "python",
   "pygments_lexer": "ipython3",
   "version": "3.8.10"
  }
 },
 "nbformat": 4,
 "nbformat_minor": 5
}
